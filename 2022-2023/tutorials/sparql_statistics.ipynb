{
 "cells": [
  {
   "cell_type": "markdown",
   "metadata": {},
   "source": [
    "#  How to Explore an Unknown Dataset - Quickstart\n",
    "\n",
    "When exploring a linked dataset via a SPARQL endpoint for the first time, the hurdle can be very high and prickly. Unless one has prior knowledge of the structure of the ontology in question, or documentation is available to explain it in detail, one doesn't know where to turn. Luckily, there are strategies to start with when exploring a dataset. Discovering them is precisely the purpose of this workshop.\n",
    "\n",
    "## The Structure of a Dataset\n",
    "In general, the triples of a Linked Data source can be divided into two groups: A-Box and T-Box.\n",
    "- The T-Box (Terminological Box) contains information related to the definition of classes, properties and more generally to the structure of the dataset. \n",
    "- The A-Box (Assertional Box), on the other hand, contains information about instances, relationships between instances and more generally information about the main content of the dataset.\n",
    "\n",
    "### Note on the method\n",
    "We will begin by exploring the T-Box. This way we can understand the size of the dataset and its descriptive structure. To do this, we can look at the number of triples present and the types of classes and properties used. We'll then examine in more detail the nature of the information contained in the dataset in relation to these classes and properties (A-Box).\n",
    "\n",
    "The reference resource is the Zeri Foundation's SPARQL endpoint.\n",
    "First, I import a Python library called [sparql-dataframe] (https://pypi.org/project/sparql-dataframe/), which allows me to display the results cleanly. Then I declare in a variable the URL of the SPARQL endpoint. I do the same with the query I want to run (I recommend trying it first directly through the interface of the SPARQL endpoint, if available). Finally, I create a data frame using the library's *.get()* method and print it. The same process is repeated for all the SPARQL queries we'll see.\n",
    "\n",
    "### The T-Box\n",
    "#### The Number of Triples"
   ]
  },
  {
   "cell_type": "code",
   "execution_count": 2,
   "metadata": {},
   "outputs": [
    {
     "name": "stdout",
     "output_type": "stream",
     "text": [
      "The total number of triples is:\n",
      "    tripleCount\n",
      "0     11827416\n"
     ]
    }
   ],
   "source": [
    "import sparql_dataframe\n",
    "\n",
    "endpoint = 'http://data.fondazionezeri.unibo.it/sparql'\n",
    "\n",
    "query_triple_count = '''\n",
    "    SELECT (COUNT (*) AS ?tripleCount) \n",
    "    WHERE {\n",
    "        ?s ?p ?o .\n",
    "    }\n",
    "'''\n",
    "\n",
    "df = sparql_dataframe.get(endpoint, query_triple_count)\n",
    "print(f'The total number of triples is:\\n {df}')"
   ]
  },
  {
   "cell_type": "markdown",
   "metadata": {},
   "source": [
    "#### The Number of Predicates\n",
    "#### The List of Predicates\n",
    "This is the quickest way to get an idea of the kind of data available. Many of the predicates can indeed tell us interesting things.\n",
    "An RDF dataset may or may not have an explicit structure, and the use for example of a property such as rdfs:subClassOf can indicate its presence. The next query might then ask which classes are subclasses of which classes, so you can get an overview of the structure of the dataset. Or you can simply search for classes that are present."
   ]
  },
  {
   "cell_type": "code",
   "execution_count": 4,
   "metadata": {},
   "outputs": [
    {
     "name": "stdout",
     "output_type": "stream",
     "text": [
      "The list of predicates:\n",
      "                                                      p\n",
      "0      http://www.w3.org/1999/02/22-rdf-syntax-ns#type\n",
      "1           http://www.w3.org/2000/01/rdf-schema#label\n",
      "2         http://www.w3.org/2000/01/rdf-schema#comment\n",
      "3                 http://purl.org/dc/terms/description\n",
      "4    http://www.essepuntato.it/2014/03/fentry/descr...\n",
      "..                                                 ...\n",
      "119                 http://purl.org/dc/terms/publisher\n",
      "120                   http://purl.org/dc/terms/license\n",
      "121                   http://purl.org/dc/terms/subject\n",
      "122                    http://rdfs.org/ns/void#feature\n",
      "123             http://rdfs.org/ns/void#sparqlEndpoint\n",
      "\n",
      "[124 rows x 1 columns]\n"
     ]
    }
   ],
   "source": [
    "query_predicates = '''\n",
    "    SELECT DISTINCT ?p\n",
    "    WHERE { \n",
    "    ?s ?p ?o .\n",
    "    }\n",
    "'''\n",
    "\n",
    "df = sparql_dataframe.get(endpoint, query_predicates)\n",
    "print(f'The list of predicates:\\n {df}')"
   ]
  },
  {
   "cell_type": "markdown",
   "metadata": {},
   "source": [
    "It could be interesting to try to figure out which properties are repeated most times. It is possible to do this by using the COUNT construct, and sorting the results in descending order (DESC)."
   ]
  },
  {
   "cell_type": "markdown",
   "metadata": {},
   "source": [
    "##### The Number of Predicates"
   ]
  },
  {
   "cell_type": "code",
   "execution_count": 5,
   "metadata": {},
   "outputs": [
    {
     "name": "stdout",
     "output_type": "stream",
     "text": [
      "The number of times each predicate is used:\n",
      "                                                      p  predicate\n",
      "0           http://www.w3.org/2000/01/rdf-schema#label    3305175\n",
      "1      http://www.w3.org/1999/02/22-rdf-syntax-ns#type    1897432\n",
      "2         http://www.w3.org/2000/01/rdf-schema#comment     743296\n",
      "3       http://www.cidoc-crm.org/cidoc-crm/P2_has_type     327750\n",
      "4       http://purl.org/spar/pro/isRelatedToRoleInTime     293977\n",
      "..                                                 ...        ...\n",
      "119                    http://rdfs.org/ns/void#feature          1\n",
      "120             http://rdfs.org/ns/void#sparqlEndpoint          1\n",
      "121    http://www.cidoc-crm.org/cidoc-crm/P128_carries          1\n",
      "122  http://www.cidoc-crm.org/cidoc-crm/P128i_is_ca...          1\n",
      "123                 http://xmlns.com/foaf/0.1/homepage          1\n",
      "\n",
      "[124 rows x 2 columns]\n"
     ]
    }
   ],
   "source": [
    "query_predicate_repetition = '''\n",
    "    SELECT ?p (COUNT(?p) AS ?predicate)\n",
    "    WHERE { \n",
    "    ?s ?p ?o .\n",
    "    }\n",
    "    GROUP BY ?p\n",
    "    ORDER BY DESC(?predicate)\n",
    "'''\n",
    "\n",
    "df = sparql_dataframe.get(endpoint, query_predicate_repetition)\n",
    "print(f'The number of times each predicate is used:\\n {df}')"
   ]
  },
  {
   "cell_type": "markdown",
   "metadata": {},
   "source": [
    "It will certainly be interesting to delve into the 4/5 most recurrent properties later on. However, if you quickly look at the full list, you'll be able understand at a first glance how the information contained is mainly about the description of cultural objects and interaction with entities (artists/institutions)."
   ]
  },
  {
   "cell_type": "markdown",
   "metadata": {},
   "source": [
    "#### The Classes\n",
    "With Classes, the situation is a little bit more complicated. It could be that a Class has type (rdf:type or a) rdfs:Class, or more often owl:Class. However, it is common to not have any result back from this type of searches, because it could be the case that the dataset has its own way to define a Class. Let's check with Zeri:"
   ]
  },
  {
   "cell_type": "code",
   "execution_count": 6,
   "metadata": {},
   "outputs": [
    {
     "name": "stdout",
     "output_type": "stream",
     "text": [
      "The list of classes:\n",
      " Empty DataFrame\n",
      "Columns: [c]\n",
      "Index: []\n"
     ]
    }
   ],
   "source": [
    "query_classes = '''\n",
    "    PREFIX rdfs: <http://www.w3.org/2000/01/rdf-schema#>\n",
    "    SELECT DISTINCT ?c\n",
    "    WHERE {\n",
    "        ?c a rdfs:Class .\n",
    "    }\n",
    "    ORDER BY ?c\n",
    "'''\n",
    "df = sparql_dataframe.get(endpoint, query_classes)\n",
    "print(f'The list of classes:\\n {df}')"
   ]
  },
  {
   "cell_type": "code",
   "execution_count": 7,
   "metadata": {},
   "outputs": [
    {
     "name": "stdout",
     "output_type": "stream",
     "text": [
      "The list of classes:\n",
      " Empty DataFrame\n",
      "Columns: [c]\n",
      "Index: []\n"
     ]
    }
   ],
   "source": [
    "query_classes = '''\n",
    "    PREFIX owl: <http://www.w3.org/2002/07/owl#>\n",
    "    SELECT DISTINCT ?c\n",
    "    WHERE {\n",
    "        ?c a owl:Class .\n",
    "    }\n",
    "    ORDER BY ?c\n",
    "'''\n",
    "df = sparql_dataframe.get(endpoint, query_classes)\n",
    "print(f'The list of classes:\\n {df}')"
   ]
  },
  {
   "cell_type": "markdown",
   "metadata": {},
   "source": [
    "#### The List of Classes\n",
    "What we can do instead is to look at the concept that describes a subject, searching for its type: rdf:type or a."
   ]
  },
  {
   "cell_type": "code",
   "execution_count": 8,
   "metadata": {},
   "outputs": [
    {
     "name": "stdout",
     "output_type": "stream",
     "text": [
      "The list of Classes types:\n",
      "                                                concept\n",
      "0      http://www.essepuntato.it/2014/03/fentry/FEntry\n",
      "1         http://www.cidoc-crm.org/cidoc-crm/E35_Title\n",
      "2    http://www.cidoc-crm.org/cidoc-crm/E15_Identif...\n",
      "3    http://www.cidoc-crm.org/cidoc-crm/E42_Identifier\n",
      "4          http://www.cidoc-crm.org/cidoc-crm/E55_Type\n",
      "..                                                 ...\n",
      "100       http://purl.org/spar/fabio/InstructionalWork\n",
      "101    http://purl.org/spar/fabio/ExpressionCollection\n",
      "102                  http://purl.org/spar/fabio/Thesis\n",
      "103  http://www.essepuntato.it/2012/04/tvc/ValueInTime\n",
      "104                    http://rdfs.org/ns/void#Dataset\n",
      "\n",
      "[105 rows x 1 columns]\n"
     ]
    }
   ],
   "source": [
    "query_concept = '''\n",
    "    SELECT DISTINCT ?concept \n",
    "    WHERE {\n",
    "    ?s a ?concept .\n",
    "    }\n",
    "'''\n",
    "df = sparql_dataframe.get(endpoint, query_concept)\n",
    "print(f'The list of Classes types:\\n {df}')"
   ]
  },
  {
   "cell_type": "markdown",
   "metadata": {},
   "source": [
    "Moreover, we can check how many predicates are associated to each Class."
   ]
  },
  {
   "cell_type": "code",
   "execution_count": 9,
   "metadata": {},
   "outputs": [
    {
     "name": "stdout",
     "output_type": "stream",
     "text": [
      "The number of properties per type in descending order:\n",
      "                                                   type  count\n",
      "0    http://www.cidoc-crm.org/cidoc-crm/E28_Concept...     20\n",
      "1      http://www.cidoc-crm.org/cidoc-crm/E31_Document     19\n",
      "2              http://purl.org/spar/fabio/ArtisticWork     17\n",
      "3                http://purl.org/spar/fabio/AnalogItem     16\n",
      "4    http://www.cidoc-crm.org/cidoc-crm/E22_Man-Mad...     16\n",
      "..                                                 ...    ...\n",
      "100  http://www.cidoc-crm.org/cidoc-crm/E58_Measure...      2\n",
      "101       http://www.cidoc-crm.org/cidoc-crm/E74_Group      2\n",
      "102  http://www.cidoc-crm.org/cidoc-crm/E78_Collection      2\n",
      "103  http://www.ontologydesignpatterns.org/cp/owl/t...      2\n",
      "104                    http://www.w3.org/ns/prov#Agent      2\n",
      "\n",
      "[105 rows x 2 columns]\n"
     ]
    }
   ],
   "source": [
    "query_property_per_type = '''\n",
    "    SELECT DISTINCT ?type (COUNT(DISTINCT ?p) AS ?count)\n",
    "    WHERE {\n",
    "    ?s a ?type . \n",
    "    ?s ?p ?o . \n",
    "    }\n",
    "    GROUP BY ?type\n",
    "    ORDER BY DESC(?count)\n",
    "'''\n",
    "\n",
    "df = sparql_dataframe.get(endpoint, query_property_per_type)\n",
    "print(f'The number of properties per type in descending order:\\n {df}')"
   ]
  },
  {
   "cell_type": "markdown",
   "metadata": {},
   "source": [
    "### The A-Box\n",
    "#### Instances per Concept\n",
    "With Classes, and in particular the instances that refer to them, we get to the heart of the dataset's content. First we can look at how many instances each Class has. The previous reasoning applies here as well: by checking the list, it is possible to see which concepts are most recurrent."
   ]
  },
  {
   "cell_type": "code",
   "execution_count": 10,
   "metadata": {},
   "outputs": [
    {
     "name": "stdout",
     "output_type": "stream",
     "text": [
      "The number of instances per class are:\n",
      "                                                concept  instanceCount\n",
      "0                  http://purl.org/spar/pro/RoleInTime         272862\n",
      "1    http://www.cidoc-crm.org/cidoc-crm/E42_Identifier         163774\n",
      "2          http://purl.org/spar/fabio/MetadataDocument         146088\n",
      "3        http://purl.org/emmedi/hico/InterpretationAct         144561\n",
      "4    http://www.cidoc-crm.org/cidoc-crm/E15_Identif...         115169\n",
      "..                                                 ...            ...\n",
      "100               http://purl.org/spar/fabio/Newspaper              1\n",
      "101                  http://purl.org/spar/fabio/Thesis              1\n",
      "102                    http://rdfs.org/ns/void#Dataset              1\n",
      "103     http://www.cidoc-crm.org/cidoc-crm/E45_Address              1\n",
      "104                    http://www.w3.org/ns/prov#Agent              1\n",
      "\n",
      "[105 rows x 2 columns]\n"
     ]
    }
   ],
   "source": [
    "query_instance_per_concept = '''\n",
    "    SELECT ?concept (COUNT (?s) AS ?instanceCount) \n",
    "    WHERE {\n",
    "    ?s a ?concept . \n",
    "    }\n",
    "    GROUP BY ?concept\n",
    "    ORDER BY DESC(?instanceCount)\n",
    "'''\n",
    "\n",
    "df = sparql_dataframe.get(endpoint, query_instance_per_concept)\n",
    "print(f'The number of instances per class are:\\n {df}')"
   ]
  },
  {
   "cell_type": "markdown",
   "metadata": {},
   "source": [
    "If we go back and look at the properties that recur most often, we see rdfs:label in first place. This is a very useful property that allows the nomenclature of instances to be extracted in natural language. \n",
    "In this regard, one factor to pay attention to are repetitions of the same concept due very often to typos (\"Federico Zeri\" and \" Federico Zeri\" are the same thing, but written with an extra space that makes them perceived as different labels). To get around this problem, one can use the SAMPLE construct, which allows one label to be picked up representing all the similar ones."
   ]
  },
  {
   "cell_type": "code",
   "execution_count": 12,
   "metadata": {},
   "outputs": [
    {
     "ename": "HTTPError",
     "evalue": "HTTP Error 504: Gateway Time-out",
     "output_type": "error",
     "traceback": [
      "\u001b[1;31m---------------------------------------------------------------------------\u001b[0m",
      "\u001b[1;31mHTTPError\u001b[0m                                 Traceback (most recent call last)",
      "\u001b[1;32m<ipython-input-12-b0fcb0ea332d>\u001b[0m in \u001b[0;36m<module>\u001b[1;34m\u001b[0m\n\u001b[0;32m     12\u001b[0m '''\n\u001b[0;32m     13\u001b[0m \u001b[1;33m\u001b[0m\u001b[0m\n\u001b[1;32m---> 14\u001b[1;33m \u001b[0mdf\u001b[0m \u001b[1;33m=\u001b[0m \u001b[0msparql_dataframe\u001b[0m\u001b[1;33m.\u001b[0m\u001b[0mget\u001b[0m\u001b[1;33m(\u001b[0m\u001b[0mendpoint\u001b[0m\u001b[1;33m,\u001b[0m \u001b[0mquery_instance_label\u001b[0m\u001b[1;33m)\u001b[0m\u001b[1;33m\u001b[0m\u001b[1;33m\u001b[0m\u001b[0m\n\u001b[0m\u001b[0;32m     15\u001b[0m \u001b[0mprint\u001b[0m\u001b[1;33m(\u001b[0m\u001b[1;34mf'The list of instances with labels and repetitions:\\n {df}'\u001b[0m\u001b[1;33m)\u001b[0m\u001b[1;33m\u001b[0m\u001b[1;33m\u001b[0m\u001b[0m\n",
      "\u001b[1;32m~\\anaconda3\\lib\\site-packages\\sparql_dataframe\\sparql_dataframe.py\u001b[0m in \u001b[0;36mget_sparql_dataframe\u001b[1;34m(endpoint, query, post)\u001b[0m\n\u001b[0;32m     27\u001b[0m \u001b[1;33m\u001b[0m\u001b[0m\n\u001b[0;32m     28\u001b[0m     \u001b[0msparql\u001b[0m\u001b[1;33m.\u001b[0m\u001b[0msetReturnFormat\u001b[0m\u001b[1;33m(\u001b[0m\u001b[0mCSV\u001b[0m\u001b[1;33m)\u001b[0m\u001b[1;33m\u001b[0m\u001b[1;33m\u001b[0m\u001b[0m\n\u001b[1;32m---> 29\u001b[1;33m     \u001b[0mresults\u001b[0m \u001b[1;33m=\u001b[0m \u001b[0msparql\u001b[0m\u001b[1;33m.\u001b[0m\u001b[0mquery\u001b[0m\u001b[1;33m(\u001b[0m\u001b[1;33m)\u001b[0m\u001b[1;33m.\u001b[0m\u001b[0mconvert\u001b[0m\u001b[1;33m(\u001b[0m\u001b[1;33m)\u001b[0m\u001b[1;33m\u001b[0m\u001b[1;33m\u001b[0m\u001b[0m\n\u001b[0m\u001b[0;32m     30\u001b[0m     \u001b[0m_csv\u001b[0m \u001b[1;33m=\u001b[0m \u001b[0mStringIO\u001b[0m\u001b[1;33m(\u001b[0m\u001b[0mresults\u001b[0m\u001b[1;33m.\u001b[0m\u001b[0mdecode\u001b[0m\u001b[1;33m(\u001b[0m\u001b[1;34m'utf-8'\u001b[0m\u001b[1;33m)\u001b[0m\u001b[1;33m)\u001b[0m\u001b[1;33m\u001b[0m\u001b[1;33m\u001b[0m\u001b[0m\n\u001b[0;32m     31\u001b[0m     \u001b[1;32mreturn\u001b[0m \u001b[0mpd\u001b[0m\u001b[1;33m.\u001b[0m\u001b[0mread_csv\u001b[0m\u001b[1;33m(\u001b[0m\u001b[0m_csv\u001b[0m\u001b[1;33m,\u001b[0m \u001b[0msep\u001b[0m\u001b[1;33m=\u001b[0m\u001b[1;34m\",\"\u001b[0m\u001b[1;33m)\u001b[0m\u001b[1;33m\u001b[0m\u001b[1;33m\u001b[0m\u001b[0m\n",
      "\u001b[1;32m~\\anaconda3\\lib\\site-packages\\SPARQLWrapper\\Wrapper.py\u001b[0m in \u001b[0;36mquery\u001b[1;34m(self)\u001b[0m\n\u001b[0;32m   1105\u001b[0m             \u001b[1;33m:\u001b[0m\u001b[0mrtype\u001b[0m\u001b[1;33m:\u001b[0m \u001b[1;33m:\u001b[0m\u001b[1;32mclass\u001b[0m\u001b[1;33m:\u001b[0m\u001b[0;31m`\u001b[0m\u001b[0mQueryResult\u001b[0m\u001b[0;31m`\u001b[0m \u001b[0minstance\u001b[0m\u001b[1;33m\u001b[0m\u001b[1;33m\u001b[0m\u001b[0m\n\u001b[0;32m   1106\u001b[0m         \"\"\"\n\u001b[1;32m-> 1107\u001b[1;33m         \u001b[1;32mreturn\u001b[0m \u001b[0mQueryResult\u001b[0m\u001b[1;33m(\u001b[0m\u001b[0mself\u001b[0m\u001b[1;33m.\u001b[0m\u001b[0m_query\u001b[0m\u001b[1;33m(\u001b[0m\u001b[1;33m)\u001b[0m\u001b[1;33m)\u001b[0m\u001b[1;33m\u001b[0m\u001b[1;33m\u001b[0m\u001b[0m\n\u001b[0m\u001b[0;32m   1108\u001b[0m \u001b[1;33m\u001b[0m\u001b[0m\n\u001b[0;32m   1109\u001b[0m     \u001b[1;32mdef\u001b[0m \u001b[0mqueryAndConvert\u001b[0m\u001b[1;33m(\u001b[0m\u001b[0mself\u001b[0m\u001b[1;33m)\u001b[0m\u001b[1;33m:\u001b[0m\u001b[1;33m\u001b[0m\u001b[1;33m\u001b[0m\u001b[0m\n",
      "\u001b[1;32m~\\anaconda3\\lib\\site-packages\\SPARQLWrapper\\Wrapper.py\u001b[0m in \u001b[0;36m_query\u001b[1;34m(self)\u001b[0m\n\u001b[0;32m   1085\u001b[0m                 \u001b[1;32mraise\u001b[0m \u001b[0mEndPointInternalError\u001b[0m\u001b[1;33m(\u001b[0m\u001b[0me\u001b[0m\u001b[1;33m.\u001b[0m\u001b[0mread\u001b[0m\u001b[1;33m(\u001b[0m\u001b[1;33m)\u001b[0m\u001b[1;33m)\u001b[0m\u001b[1;33m\u001b[0m\u001b[1;33m\u001b[0m\u001b[0m\n\u001b[0;32m   1086\u001b[0m             \u001b[1;32melse\u001b[0m\u001b[1;33m:\u001b[0m\u001b[1;33m\u001b[0m\u001b[1;33m\u001b[0m\u001b[0m\n\u001b[1;32m-> 1087\u001b[1;33m                 \u001b[1;32mraise\u001b[0m \u001b[0me\u001b[0m\u001b[1;33m\u001b[0m\u001b[1;33m\u001b[0m\u001b[0m\n\u001b[0m\u001b[0;32m   1088\u001b[0m \u001b[1;33m\u001b[0m\u001b[0m\n\u001b[0;32m   1089\u001b[0m     \u001b[1;32mdef\u001b[0m \u001b[0mquery\u001b[0m\u001b[1;33m(\u001b[0m\u001b[0mself\u001b[0m\u001b[1;33m)\u001b[0m\u001b[1;33m:\u001b[0m\u001b[1;33m\u001b[0m\u001b[1;33m\u001b[0m\u001b[0m\n",
      "\u001b[1;32m~\\anaconda3\\lib\\site-packages\\SPARQLWrapper\\Wrapper.py\u001b[0m in \u001b[0;36m_query\u001b[1;34m(self)\u001b[0m\n\u001b[0;32m   1071\u001b[0m                 \u001b[0mresponse\u001b[0m \u001b[1;33m=\u001b[0m \u001b[0murlopener\u001b[0m\u001b[1;33m(\u001b[0m\u001b[0mrequest\u001b[0m\u001b[1;33m,\u001b[0m \u001b[0mtimeout\u001b[0m\u001b[1;33m=\u001b[0m\u001b[0mself\u001b[0m\u001b[1;33m.\u001b[0m\u001b[0mtimeout\u001b[0m\u001b[1;33m)\u001b[0m\u001b[1;33m\u001b[0m\u001b[1;33m\u001b[0m\u001b[0m\n\u001b[0;32m   1072\u001b[0m             \u001b[1;32melse\u001b[0m\u001b[1;33m:\u001b[0m\u001b[1;33m\u001b[0m\u001b[1;33m\u001b[0m\u001b[0m\n\u001b[1;32m-> 1073\u001b[1;33m                 \u001b[0mresponse\u001b[0m \u001b[1;33m=\u001b[0m \u001b[0murlopener\u001b[0m\u001b[1;33m(\u001b[0m\u001b[0mrequest\u001b[0m\u001b[1;33m)\u001b[0m\u001b[1;33m\u001b[0m\u001b[1;33m\u001b[0m\u001b[0m\n\u001b[0m\u001b[0;32m   1074\u001b[0m             \u001b[1;32mreturn\u001b[0m \u001b[0mresponse\u001b[0m\u001b[1;33m,\u001b[0m \u001b[0mself\u001b[0m\u001b[1;33m.\u001b[0m\u001b[0mreturnFormat\u001b[0m\u001b[1;33m\u001b[0m\u001b[1;33m\u001b[0m\u001b[0m\n\u001b[0;32m   1075\u001b[0m         \u001b[1;32mexcept\u001b[0m \u001b[0murllib\u001b[0m\u001b[1;33m.\u001b[0m\u001b[0merror\u001b[0m\u001b[1;33m.\u001b[0m\u001b[0mHTTPError\u001b[0m \u001b[1;32mas\u001b[0m \u001b[0me\u001b[0m\u001b[1;33m:\u001b[0m\u001b[1;33m\u001b[0m\u001b[1;33m\u001b[0m\u001b[0m\n",
      "\u001b[1;32m~\\anaconda3\\lib\\urllib\\request.py\u001b[0m in \u001b[0;36murlopen\u001b[1;34m(url, data, timeout, cafile, capath, cadefault, context)\u001b[0m\n\u001b[0;32m    220\u001b[0m     \u001b[1;32melse\u001b[0m\u001b[1;33m:\u001b[0m\u001b[1;33m\u001b[0m\u001b[1;33m\u001b[0m\u001b[0m\n\u001b[0;32m    221\u001b[0m         \u001b[0mopener\u001b[0m \u001b[1;33m=\u001b[0m \u001b[0m_opener\u001b[0m\u001b[1;33m\u001b[0m\u001b[1;33m\u001b[0m\u001b[0m\n\u001b[1;32m--> 222\u001b[1;33m     \u001b[1;32mreturn\u001b[0m \u001b[0mopener\u001b[0m\u001b[1;33m.\u001b[0m\u001b[0mopen\u001b[0m\u001b[1;33m(\u001b[0m\u001b[0murl\u001b[0m\u001b[1;33m,\u001b[0m \u001b[0mdata\u001b[0m\u001b[1;33m,\u001b[0m \u001b[0mtimeout\u001b[0m\u001b[1;33m)\u001b[0m\u001b[1;33m\u001b[0m\u001b[1;33m\u001b[0m\u001b[0m\n\u001b[0m\u001b[0;32m    223\u001b[0m \u001b[1;33m\u001b[0m\u001b[0m\n\u001b[0;32m    224\u001b[0m \u001b[1;32mdef\u001b[0m \u001b[0minstall_opener\u001b[0m\u001b[1;33m(\u001b[0m\u001b[0mopener\u001b[0m\u001b[1;33m)\u001b[0m\u001b[1;33m:\u001b[0m\u001b[1;33m\u001b[0m\u001b[1;33m\u001b[0m\u001b[0m\n",
      "\u001b[1;32m~\\anaconda3\\lib\\urllib\\request.py\u001b[0m in \u001b[0;36mopen\u001b[1;34m(self, fullurl, data, timeout)\u001b[0m\n\u001b[0;32m    529\u001b[0m         \u001b[1;32mfor\u001b[0m \u001b[0mprocessor\u001b[0m \u001b[1;32min\u001b[0m \u001b[0mself\u001b[0m\u001b[1;33m.\u001b[0m\u001b[0mprocess_response\u001b[0m\u001b[1;33m.\u001b[0m\u001b[0mget\u001b[0m\u001b[1;33m(\u001b[0m\u001b[0mprotocol\u001b[0m\u001b[1;33m,\u001b[0m \u001b[1;33m[\u001b[0m\u001b[1;33m]\u001b[0m\u001b[1;33m)\u001b[0m\u001b[1;33m:\u001b[0m\u001b[1;33m\u001b[0m\u001b[1;33m\u001b[0m\u001b[0m\n\u001b[0;32m    530\u001b[0m             \u001b[0mmeth\u001b[0m \u001b[1;33m=\u001b[0m \u001b[0mgetattr\u001b[0m\u001b[1;33m(\u001b[0m\u001b[0mprocessor\u001b[0m\u001b[1;33m,\u001b[0m \u001b[0mmeth_name\u001b[0m\u001b[1;33m)\u001b[0m\u001b[1;33m\u001b[0m\u001b[1;33m\u001b[0m\u001b[0m\n\u001b[1;32m--> 531\u001b[1;33m             \u001b[0mresponse\u001b[0m \u001b[1;33m=\u001b[0m \u001b[0mmeth\u001b[0m\u001b[1;33m(\u001b[0m\u001b[0mreq\u001b[0m\u001b[1;33m,\u001b[0m \u001b[0mresponse\u001b[0m\u001b[1;33m)\u001b[0m\u001b[1;33m\u001b[0m\u001b[1;33m\u001b[0m\u001b[0m\n\u001b[0m\u001b[0;32m    532\u001b[0m \u001b[1;33m\u001b[0m\u001b[0m\n\u001b[0;32m    533\u001b[0m         \u001b[1;32mreturn\u001b[0m \u001b[0mresponse\u001b[0m\u001b[1;33m\u001b[0m\u001b[1;33m\u001b[0m\u001b[0m\n",
      "\u001b[1;32m~\\anaconda3\\lib\\urllib\\request.py\u001b[0m in \u001b[0;36mhttp_response\u001b[1;34m(self, request, response)\u001b[0m\n\u001b[0;32m    638\u001b[0m         \u001b[1;31m# request was successfully received, understood, and accepted.\u001b[0m\u001b[1;33m\u001b[0m\u001b[1;33m\u001b[0m\u001b[1;33m\u001b[0m\u001b[0m\n\u001b[0;32m    639\u001b[0m         \u001b[1;32mif\u001b[0m \u001b[1;32mnot\u001b[0m \u001b[1;33m(\u001b[0m\u001b[1;36m200\u001b[0m \u001b[1;33m<=\u001b[0m \u001b[0mcode\u001b[0m \u001b[1;33m<\u001b[0m \u001b[1;36m300\u001b[0m\u001b[1;33m)\u001b[0m\u001b[1;33m:\u001b[0m\u001b[1;33m\u001b[0m\u001b[1;33m\u001b[0m\u001b[0m\n\u001b[1;32m--> 640\u001b[1;33m             response = self.parent.error(\n\u001b[0m\u001b[0;32m    641\u001b[0m                 'http', request, response, code, msg, hdrs)\n\u001b[0;32m    642\u001b[0m \u001b[1;33m\u001b[0m\u001b[0m\n",
      "\u001b[1;32m~\\anaconda3\\lib\\urllib\\request.py\u001b[0m in \u001b[0;36merror\u001b[1;34m(self, proto, *args)\u001b[0m\n\u001b[0;32m    567\u001b[0m         \u001b[1;32mif\u001b[0m \u001b[0mhttp_err\u001b[0m\u001b[1;33m:\u001b[0m\u001b[1;33m\u001b[0m\u001b[1;33m\u001b[0m\u001b[0m\n\u001b[0;32m    568\u001b[0m             \u001b[0margs\u001b[0m \u001b[1;33m=\u001b[0m \u001b[1;33m(\u001b[0m\u001b[0mdict\u001b[0m\u001b[1;33m,\u001b[0m \u001b[1;34m'default'\u001b[0m\u001b[1;33m,\u001b[0m \u001b[1;34m'http_error_default'\u001b[0m\u001b[1;33m)\u001b[0m \u001b[1;33m+\u001b[0m \u001b[0morig_args\u001b[0m\u001b[1;33m\u001b[0m\u001b[1;33m\u001b[0m\u001b[0m\n\u001b[1;32m--> 569\u001b[1;33m             \u001b[1;32mreturn\u001b[0m \u001b[0mself\u001b[0m\u001b[1;33m.\u001b[0m\u001b[0m_call_chain\u001b[0m\u001b[1;33m(\u001b[0m\u001b[1;33m*\u001b[0m\u001b[0margs\u001b[0m\u001b[1;33m)\u001b[0m\u001b[1;33m\u001b[0m\u001b[1;33m\u001b[0m\u001b[0m\n\u001b[0m\u001b[0;32m    570\u001b[0m \u001b[1;33m\u001b[0m\u001b[0m\n\u001b[0;32m    571\u001b[0m \u001b[1;31m# XXX probably also want an abstract factory that knows when it makes\u001b[0m\u001b[1;33m\u001b[0m\u001b[1;33m\u001b[0m\u001b[1;33m\u001b[0m\u001b[0m\n",
      "\u001b[1;32m~\\anaconda3\\lib\\urllib\\request.py\u001b[0m in \u001b[0;36m_call_chain\u001b[1;34m(self, chain, kind, meth_name, *args)\u001b[0m\n\u001b[0;32m    500\u001b[0m         \u001b[1;32mfor\u001b[0m \u001b[0mhandler\u001b[0m \u001b[1;32min\u001b[0m \u001b[0mhandlers\u001b[0m\u001b[1;33m:\u001b[0m\u001b[1;33m\u001b[0m\u001b[1;33m\u001b[0m\u001b[0m\n\u001b[0;32m    501\u001b[0m             \u001b[0mfunc\u001b[0m \u001b[1;33m=\u001b[0m \u001b[0mgetattr\u001b[0m\u001b[1;33m(\u001b[0m\u001b[0mhandler\u001b[0m\u001b[1;33m,\u001b[0m \u001b[0mmeth_name\u001b[0m\u001b[1;33m)\u001b[0m\u001b[1;33m\u001b[0m\u001b[1;33m\u001b[0m\u001b[0m\n\u001b[1;32m--> 502\u001b[1;33m             \u001b[0mresult\u001b[0m \u001b[1;33m=\u001b[0m \u001b[0mfunc\u001b[0m\u001b[1;33m(\u001b[0m\u001b[1;33m*\u001b[0m\u001b[0margs\u001b[0m\u001b[1;33m)\u001b[0m\u001b[1;33m\u001b[0m\u001b[1;33m\u001b[0m\u001b[0m\n\u001b[0m\u001b[0;32m    503\u001b[0m             \u001b[1;32mif\u001b[0m \u001b[0mresult\u001b[0m \u001b[1;32mis\u001b[0m \u001b[1;32mnot\u001b[0m \u001b[1;32mNone\u001b[0m\u001b[1;33m:\u001b[0m\u001b[1;33m\u001b[0m\u001b[1;33m\u001b[0m\u001b[0m\n\u001b[0;32m    504\u001b[0m                 \u001b[1;32mreturn\u001b[0m \u001b[0mresult\u001b[0m\u001b[1;33m\u001b[0m\u001b[1;33m\u001b[0m\u001b[0m\n",
      "\u001b[1;32m~\\anaconda3\\lib\\urllib\\request.py\u001b[0m in \u001b[0;36mhttp_error_default\u001b[1;34m(self, req, fp, code, msg, hdrs)\u001b[0m\n\u001b[0;32m    647\u001b[0m \u001b[1;32mclass\u001b[0m \u001b[0mHTTPDefaultErrorHandler\u001b[0m\u001b[1;33m(\u001b[0m\u001b[0mBaseHandler\u001b[0m\u001b[1;33m)\u001b[0m\u001b[1;33m:\u001b[0m\u001b[1;33m\u001b[0m\u001b[1;33m\u001b[0m\u001b[0m\n\u001b[0;32m    648\u001b[0m     \u001b[1;32mdef\u001b[0m \u001b[0mhttp_error_default\u001b[0m\u001b[1;33m(\u001b[0m\u001b[0mself\u001b[0m\u001b[1;33m,\u001b[0m \u001b[0mreq\u001b[0m\u001b[1;33m,\u001b[0m \u001b[0mfp\u001b[0m\u001b[1;33m,\u001b[0m \u001b[0mcode\u001b[0m\u001b[1;33m,\u001b[0m \u001b[0mmsg\u001b[0m\u001b[1;33m,\u001b[0m \u001b[0mhdrs\u001b[0m\u001b[1;33m)\u001b[0m\u001b[1;33m:\u001b[0m\u001b[1;33m\u001b[0m\u001b[1;33m\u001b[0m\u001b[0m\n\u001b[1;32m--> 649\u001b[1;33m         \u001b[1;32mraise\u001b[0m \u001b[0mHTTPError\u001b[0m\u001b[1;33m(\u001b[0m\u001b[0mreq\u001b[0m\u001b[1;33m.\u001b[0m\u001b[0mfull_url\u001b[0m\u001b[1;33m,\u001b[0m \u001b[0mcode\u001b[0m\u001b[1;33m,\u001b[0m \u001b[0mmsg\u001b[0m\u001b[1;33m,\u001b[0m \u001b[0mhdrs\u001b[0m\u001b[1;33m,\u001b[0m \u001b[0mfp\u001b[0m\u001b[1;33m)\u001b[0m\u001b[1;33m\u001b[0m\u001b[1;33m\u001b[0m\u001b[0m\n\u001b[0m\u001b[0;32m    650\u001b[0m \u001b[1;33m\u001b[0m\u001b[0m\n\u001b[0;32m    651\u001b[0m \u001b[1;32mclass\u001b[0m \u001b[0mHTTPRedirectHandler\u001b[0m\u001b[1;33m(\u001b[0m\u001b[0mBaseHandler\u001b[0m\u001b[1;33m)\u001b[0m\u001b[1;33m:\u001b[0m\u001b[1;33m\u001b[0m\u001b[1;33m\u001b[0m\u001b[0m\n",
      "\u001b[1;31mHTTPError\u001b[0m: HTTP Error 504: Gateway Time-out"
     ]
    }
   ],
   "source": [
    "query_instance_label = '''\n",
    "    PREFIX rdfs: <http://www.w3.org/2000/01/rdf-schema#> \n",
    "    SELECT ?instance \n",
    "        (SAMPLE(?label) AS ?instanceLabel) \n",
    "        (COUNT(?instance) AS ?instanceCount) \n",
    "    WHERE { \n",
    "        ?instance a ?class . \n",
    "        OPTIONAL{ ?instance rdfs:label ?label .} \n",
    "        }\n",
    "        GROUP BY ?instance ?instanceLabel\n",
    "        ORDER BY DESC(?instanceCount)\n",
    "'''\n",
    "\n",
    "df = sparql_dataframe.get(endpoint, query_instance_label)\n",
    "print(f'The list of instances with labels and repetitions:\\n {df}')"
   ]
  },
  {
   "cell_type": "markdown",
   "metadata": {},
   "source": [
    "Try to do a similar search and explore results related to properties:\n",
    "- P2_has_type\n",
    "- P14_corried_out_by\n",
    "\n",
    "or any other that you find interesting."
   ]
  },
  {
   "cell_type": "markdown",
   "metadata": {},
   "source": [
    "# References\n",
    "\n",
    "- DuCharme Bob, «Exploring a SPARQL endpoint», 24 agosto 2014. https://www.bobdc.com/blog/exploring-a-sparql-endpoint/.\n",
    "- DuCharme Bob, «Queries to explore a dataset», 30 aprile 2022. https://www.bobdc.com/blog/exploringadataset/."
   ]
  }
 ],
 "metadata": {
  "kernelspec": {
   "display_name": "Python 3",
   "language": "python",
   "name": "python3"
  },
  "language_info": {
   "codemirror_mode": {
    "name": "ipython",
    "version": 3
   },
   "file_extension": ".py",
   "mimetype": "text/x-python",
   "name": "python",
   "nbconvert_exporter": "python",
   "pygments_lexer": "ipython3",
   "version": "3.8.3"
  },
  "vscode": {
   "interpreter": {
    "hash": "751df554f86acbe8bdc5ef9da703ed5892644ba9d53e444f8fcd29d723b9fdb1"
   }
  }
 },
 "nbformat": 4,
 "nbformat_minor": 2
}
